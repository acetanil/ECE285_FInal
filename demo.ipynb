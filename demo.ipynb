{
 "cells": [
  {
   "cell_type": "code",
   "execution_count": 1,
   "metadata": {},
   "outputs": [],
   "source": [
    "import numpy as np\n",
    "import tensorflow as tf\n",
    "import matplotlib.pyplot as plt\n",
    "\n",
    "from tensorflow import keras\n",
    "\n",
    "assert tf.__version__ == '1.12.0'\n",
    "assert keras.__version__ == '2.1.6-tf'\n",
    "\n",
    "if tf.test.is_gpu_available():\n",
    "    device_name = tf.test.gpu_device_name()\n",
    "    if device_name != '/device:GPU:0':\n",
    "        raise SystemError('GPU device not found')\n",
    "    print('Used GPU at: {}'.format(device_name))"
   ]
  },
  {
   "cell_type": "code",
   "execution_count": 2,
   "metadata": {},
   "outputs": [],
   "source": [
    "import tensorflow.keras.preprocessing.image as image\n",
    "import tensorflow.keras.models as models\n",
    "\n",
    "import tensorflow.keras.applications.densenet as densenet\n",
    "import tensorflow.keras.applications.inception_v3 as inception_v3"
   ]
  },
  {
   "cell_type": "markdown",
   "metadata": {},
   "source": [
    "## Evaluate Functions"
   ]
  },
  {
   "cell_type": "code",
   "execution_count": 3,
   "metadata": {},
   "outputs": [],
   "source": [
    "def decode_prediction(Pred, Top=1):\n",
    "    res = []\n",
    "    for pred in Pred:\n",
    "        scores = [(pred[i], i) for i in range(120)]\n",
    "        scores.sort(reverse=1)\n",
    "        res.append(scores[:Top])\n",
    "    return res\n",
    "\n",
    "def calculate_accuracy(Pred, Lbl, Top):\n",
    "    idx, cnt = 0, 0\n",
    "    for res in decode_prediction(Pred, Top):\n",
    "        lbls = [res[i][1] for i in range(Top)]\n",
    "        if Lbl[idx] in lbls:\n",
    "            cnt += 1\n",
    "        idx += 1\n",
    "    return cnt / len(Pred)"
   ]
  },
  {
   "cell_type": "markdown",
   "metadata": {},
   "source": [
    "## Prepare the testing data"
   ]
  },
  {
   "cell_type": "code",
   "execution_count": 4,
   "metadata": {},
   "outputs": [],
   "source": [
    "from scipy.io import loadmat\n",
    "from os.path import join\n",
    "\n",
    "prefix = './Stanford_Dog_Breed'\n",
    "imgfix = 'Test'"
   ]
  },
  {
   "cell_type": "code",
   "execution_count": 20,
   "metadata": {
    "scrolled": true
   },
   "outputs": [],
   "source": [
    "ImgGen_Inception = image.ImageDataGenerator(preprocessing_function=inception_v3.preprocess_input)\n",
    "ImgGen_DenseNet  = image.ImageDataGenerator(preprocessing_function=densenet.preprocess_input)"
   ]
  },
  {
   "cell_type": "markdown",
   "metadata": {},
   "source": [
    "## InceptionV3 Evaluation"
   ]
  },
  {
   "cell_type": "code",
   "execution_count": 6,
   "metadata": {},
   "outputs": [],
   "source": [
    "model_inceptionV3 = models.load_model('./models/inceptionv3_catdfc120_258_8064')"
   ]
  },
  {
   "cell_type": "code",
   "execution_count": 19,
   "metadata": {},
   "outputs": [
    {
     "name": "stdout",
     "output_type": "stream",
     "text": [
      "Found 8580 images belonging to 120 classes.\n"
     ]
    }
   ],
   "source": [
    "# Generate Random Subsets \n",
    "Test_Inception  = ImgGen_Inception.flow_from_directory(\n",
    "                        join(prefix, imgfix), \n",
    "                        target_size=(224, 224), \n",
    "                        class_mode='sparse', \n",
    "                        batch_size=32, \n",
    "                        shuffle=True)"
   ]
  },
  {
   "cell_type": "code",
   "execution_count": 8,
   "metadata": {},
   "outputs": [
    {
     "name": "stdout",
     "output_type": "stream",
     "text": [
      "0.78125\n"
     ]
    }
   ],
   "source": [
    "# pick up the first batch from the generator\n",
    "pred = model_inceptionV3.predict_on_batch(Test_Inception[0][0])\n",
    "lbls = Test_Inception[0][1]\n",
    "\n",
    "print(calculate_accuracy(pred, lbls, Top=1))"
   ]
  },
  {
   "cell_type": "code",
   "execution_count": 9,
   "metadata": {},
   "outputs": [],
   "source": [
    "## Display the Misclassified Samples\n",
    "Y = decode_prediction(pred)\n",
    "for k in [Y[i][0][1]==lbls[i] for i in range(32)]:\n",
    "    if k: continue\n",
    "    # display the image here"
   ]
  },
  {
   "cell_type": "markdown",
   "metadata": {},
   "source": [
    "## DenseNet121 Evaluation"
   ]
  },
  {
   "cell_type": "code",
   "execution_count": 16,
   "metadata": {},
   "outputs": [],
   "source": [
    "model_densenet121 = models.load_model('./models/densenet121_dfc120_finetune_9_8141')"
   ]
  },
  {
   "cell_type": "code",
   "execution_count": 21,
   "metadata": {},
   "outputs": [
    {
     "name": "stdout",
     "output_type": "stream",
     "text": [
      "Found 8580 images belonging to 120 classes.\n"
     ]
    }
   ],
   "source": [
    "# Generate Random Subsets \n",
    "Test_DenseNet = ImgGen_DenseNet.flow_from_directory(\n",
    "                        join(prefix, imgfix), \n",
    "                        target_size=(224, 224), \n",
    "                        class_mode='sparse', \n",
    "                        batch_size=32, \n",
    "                        shuffle=True)"
   ]
  },
  {
   "cell_type": "code",
   "execution_count": 22,
   "metadata": {},
   "outputs": [
    {
     "name": "stdout",
     "output_type": "stream",
     "text": [
      "0.875\n"
     ]
    }
   ],
   "source": [
    "# pick up the first batch from the generator\n",
    "pred = model_densenet121.predict_on_batch(Test_DenseNet[0][0])\n",
    "lbls = Test_DenseNet[0][1]\n",
    "\n",
    "print(calculate_accuracy(pred, lbls, Top=1))"
   ]
  },
  {
   "cell_type": "code",
   "execution_count": 23,
   "metadata": {},
   "outputs": [],
   "source": [
    "## Display the Misclassified Samples\n",
    "Y = decode_prediction(pred)\n",
    "for k in [Y[i][0][1]==lbls[i] for i in range(32)]:\n",
    "    if k: continue\n",
    "    # display the image here"
   ]
  },
  {
   "cell_type": "markdown",
   "metadata": {},
   "source": [
    "## VGG Evaluation"
   ]
  },
  {
   "cell_type": "markdown",
   "metadata": {},
   "source": [
    "Since the model of VGG19 is too large, approx. 1GB, which exceed the limits of github. \n",
    "\n",
    "Therefore we will skip evaluate the VGG model."
   ]
  },
  {
   "cell_type": "code",
   "execution_count": null,
   "metadata": {},
   "outputs": [],
   "source": [
    "# model_vgg = models.load_model('vgg19_dfc120_40_6751')\n",
    "# res_vgg = model_vgg.evaluate_generator(Test, verbose=0, steps=None, workers=4, use_multiprocessing=True, max_queue_size=12)\n",
    "\n",
    "# print('Losses of the fine tuned VGG model',res_vgg[0])\n",
    "# print('Accuracy of the fine tuned VGG model',res_vgg[1])\n"
   ]
  }
 ],
 "metadata": {
  "kernelspec": {
   "display_name": "Python 3",
   "language": "python",
   "name": "python3"
  },
  "language_info": {
   "codemirror_mode": {
    "name": "ipython",
    "version": 3
   },
   "file_extension": ".py",
   "mimetype": "text/x-python",
   "name": "python",
   "nbconvert_exporter": "python",
   "pygments_lexer": "ipython3",
   "version": "3.5.2"
  }
 },
 "nbformat": 4,
 "nbformat_minor": 2
}
