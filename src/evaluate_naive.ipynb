{
 "cells": [
  {
   "cell_type": "code",
   "execution_count": 1,
   "metadata": {},
   "outputs": [
    {
     "name": "stdout",
     "output_type": "stream",
     "text": [
      "1.12.0\n",
      "2.1.6-tf\n",
      "Using GPU:  True\n"
     ]
    }
   ],
   "source": [
    "import numpy as np\n",
    "import tensorflow as tf\n",
    "import matplotlib.pyplot as plt\n",
    "\n",
    "from tensorflow import keras\n",
    "\n",
    "print(tf.__version__)\n",
    "print(keras.__version__)\n",
    "print('Using GPU: ', tf.test.is_gpu_available())"
   ]
  },
  {
   "cell_type": "code",
   "execution_count": 2,
   "metadata": {},
   "outputs": [
    {
     "name": "stdout",
     "output_type": "stream",
     "text": [
      "Found GPU at: /device:GPU:0\n"
     ]
    }
   ],
   "source": [
    "device_name = tf.test.gpu_device_name()\n",
    "if device_name != '/device:GPU:0':\n",
    "  raise SystemError('GPU device not found')\n",
    "print('Found GPU at: {}'.format(device_name))"
   ]
  },
  {
   "cell_type": "code",
   "execution_count": 12,
   "metadata": {},
   "outputs": [],
   "source": [
    "import tensorflow.keras.applications.resnet50 as resnet50 \n",
    "import tensorflow.keras.applications.vgg19 as vgg19\n",
    "import tensorflow.keras.applications.densenet as densenet\n",
    "import tensorflow.keras.applications.inception_v3 as inception_v3"
   ]
  },
  {
   "cell_type": "code",
   "execution_count": 13,
   "metadata": {},
   "outputs": [],
   "source": [
    "import tensorflow.keras.preprocessing.image as image\n",
    "import tensorflow.keras.losses as losses\n",
    "import tensorflow.keras.layers as layers\n",
    "import tensorflow.keras.models as models\n",
    "import tensorflow.keras.callbacks as callbacks\n",
    "import tensorflow.keras.backend as K"
   ]
  },
  {
   "cell_type": "markdown",
   "metadata": {},
   "source": [
    "# Datasets"
   ]
  },
  {
   "cell_type": "code",
   "execution_count": 3,
   "metadata": {},
   "outputs": [],
   "source": [
    "from scipy.io import loadmat\n",
    "from os.path import join\n",
    "\n",
    "prefix = './Stanford_Dog_Breed'\n",
    "imgfix = 'Images'\n",
    "anofix = 'Annotation'"
   ]
  },
  {
   "cell_type": "markdown",
   "metadata": {},
   "source": [
    "### Read the Testing Dataset"
   ]
  },
  {
   "cell_type": "code",
   "execution_count": 9,
   "metadata": {},
   "outputs": [
    {
     "name": "stdout",
     "output_type": "stream",
     "text": [
      "Size of the testing set: \t 8580\n"
     ]
    }
   ],
   "source": [
    "test = loadmat(join(prefix, 'test_list.mat'))\n",
    "\n",
    "ftest = test['file_list']\n",
    "ltest = test['labels']\n",
    "ntest = ltest.shape[0]\n",
    "\n",
    "print('Size of the testing set: \\t', ntest)"
   ]
  },
  {
   "cell_type": "markdown",
   "metadata": {},
   "source": [
    "### Catagory 2 Index Table"
   ]
  },
  {
   "cell_type": "code",
   "execution_count": 10,
   "metadata": {},
   "outputs": [],
   "source": [
    "DogBreed = {}\n",
    "for i in range(1, ntrain):\n",
    "    l = ltrain[i][0]\n",
    "    c = ftrain[i][0][0].split('/')[0]\n",
    "    c = c.split('-')[1]\n",
    "    if c not in DogBreed:\n",
    "        DogBreed[c] = l"
   ]
  },
  {
   "cell_type": "markdown",
   "metadata": {},
   "source": [
    "### Helper Functions"
   ]
  },
  {
   "cell_type": "code",
   "execution_count": 22,
   "metadata": {},
   "outputs": [],
   "source": [
    "def gen_path(idx):\n",
    "    try:    path = join(prefix, imgfix, 'Test', ftest[idx][0][0])\n",
    "    except: path = join(prefix, imgfix, 'Test', ftest[-1][0][0])      \n",
    "    return  path\n",
    "def gen_labl(idx):\n",
    "    try:    labl = ltest[idx][0]\n",
    "    except: labl = ltest[-1][0]\n",
    "    return  labl"
   ]
  },
  {
   "cell_type": "code",
   "execution_count": 36,
   "metadata": {},
   "outputs": [],
   "source": [
    "def TestDataGen(preprocess_input):\n",
    "    for idx in range(ntest):\n",
    "        path = gen_path(idx)\n",
    "        Y = gen_labl(idx)\n",
    "        img = image.load_img(gen_path(idx), target_size=(224, 224))\n",
    "        X = image.img_to_array(img)\n",
    "        X = np.expand_dims(X, axis=0)\n",
    "        X = preprocess_input(X)\n",
    "        yield X, Y"
   ]
  },
  {
   "cell_type": "code",
   "execution_count": 99,
   "metadata": {},
   "outputs": [],
   "source": [
    "def DecodePred(Pred, Y):\n",
    "    cor, num, top = 0, len(Pred), len(Pred[0])\n",
    "    for idx in range(num):\n",
    "        pred, y = Pred[idx], Y[idx]\n",
    "        for k in range(top):\n",
    "            lbl = pred[k][1]\n",
    "            if lbl not in DogBreed: continue\n",
    "            elif y==DogBreed[lbl]: cor+=1; break\n",
    "    return cor / num"
   ]
  },
  {
   "cell_type": "markdown",
   "metadata": {},
   "source": [
    "# Evaluate the Performance of Naive Models"
   ]
  },
  {
   "cell_type": "markdown",
   "metadata": {},
   "source": [
    "### Inception V3"
   ]
  },
  {
   "cell_type": "code",
   "execution_count": 92,
   "metadata": {},
   "outputs": [],
   "source": [
    "model1 = inception_v3.InceptionV3(weights='imagenet', include_top=True)"
   ]
  },
  {
   "cell_type": "code",
   "execution_count": 93,
   "metadata": {},
   "outputs": [],
   "source": [
    "model1.compile(optimizer='SGD',\n",
    "               loss='sparse_categorical_crossentropy',\n",
    "               metrics=['accuracy'])"
   ]
  },
  {
   "cell_type": "code",
   "execution_count": 94,
   "metadata": {},
   "outputs": [
    {
     "name": "stdout",
     "output_type": "stream",
     "text": [
      "8580/8580 [==============================] - 166s 19ms/step\n"
     ]
    }
   ],
   "source": [
    "Pred1 = model1.predict_generator(\n",
    "    TestDataGen(inception_v3.preprocess_input),\n",
    "    steps=ntest,\n",
    "    verbose=1, \n",
    "    use_multiprocessing=True)\n",
    "\n",
    "Y = [gen_labl(idx) for idx in range(ntest)]            \n"
   ]
  },
  {
   "cell_type": "code",
   "execution_count": 107,
   "metadata": {},
   "outputs": [
    {
     "data": {
      "text/plain": [
       "[0.7813519813519814,\n",
       " 0.8752913752913752,\n",
       " 0.9059440559440559,\n",
       " 0.9180652680652681,\n",
       " 0.9247086247086247,\n",
       " 0.9280885780885781,\n",
       " 0.9311188811188811,\n",
       " 0.9334498834498834,\n",
       " 0.9356643356643357,\n",
       " 0.9372960372960373,\n",
       " 0.9384615384615385,\n",
       " 0.9398601398601398,\n",
       " 0.9406759906759907,\n",
       " 0.9416083916083916,\n",
       " 0.9418414918414918,\n",
       " 0.9423076923076923,\n",
       " 0.9425407925407926,\n",
       " 0.9427738927738928,\n",
       " 0.943006993006993]"
      ]
     },
     "execution_count": 107,
     "metadata": {},
     "output_type": "execute_result"
    }
   ],
   "source": [
    "[DecodePred(inception_v3.decode_predictions(Pred1, top), Y) for top in range(1,20)]"
   ]
  },
  {
   "cell_type": "markdown",
   "metadata": {},
   "source": [
    "### VGG19"
   ]
  },
  {
   "cell_type": "code",
   "execution_count": 103,
   "metadata": {},
   "outputs": [
    {
     "name": "stdout",
     "output_type": "stream",
     "text": [
      "Downloading data from https://github.com/fchollet/deep-learning-models/releases/download/v0.1/vgg19_weights_tf_dim_ordering_tf_kernels.h5\n",
      "574717952/574710816 [==============================] - 1996s 3us/step\n"
     ]
    }
   ],
   "source": [
    "model2 = vgg19.VGG19(weights='imagenet', include_top=True)"
   ]
  },
  {
   "cell_type": "code",
   "execution_count": 104,
   "metadata": {},
   "outputs": [],
   "source": [
    "model2.compile(optimizer='SGD',\n",
    "               loss='sparse_categorical_crossentropy',\n",
    "               metrics=['accuracy'])"
   ]
  },
  {
   "cell_type": "code",
   "execution_count": 105,
   "metadata": {},
   "outputs": [
    {
     "name": "stdout",
     "output_type": "stream",
     "text": [
      "8580/8580 [==============================] - 190s 22ms/step\n"
     ]
    }
   ],
   "source": [
    "Pred2 = model2.predict_generator(\n",
    "    TestDataGen(vgg19.preprocess_input),\n",
    "    steps=ntest,verbose=1, \n",
    "    use_multiprocessing=True)\n",
    "\n",
    "Y = [gen_labl(idx) for idx in range(ntest)]       \n"
   ]
  },
  {
   "cell_type": "code",
   "execution_count": 108,
   "metadata": {},
   "outputs": [
    {
     "data": {
      "text/plain": [
       "[0.7132867132867133,\n",
       " 0.83006993006993,\n",
       " 0.8735431235431236,\n",
       " 0.8931235431235431,\n",
       " 0.905011655011655,\n",
       " 0.9129370629370629,\n",
       " 0.91993006993007,\n",
       " 0.9243589743589744,\n",
       " 0.9280885780885781,\n",
       " 0.9301864801864802,\n",
       " 0.9318181818181818,\n",
       " 0.9339160839160839,\n",
       " 0.9348484848484848,\n",
       " 0.9356643356643357,\n",
       " 0.9362470862470863,\n",
       " 0.9371794871794872,\n",
       " 0.9382284382284383,\n",
       " 0.938927738927739,\n",
       " 0.9397435897435897]"
      ]
     },
     "execution_count": 108,
     "metadata": {},
     "output_type": "execute_result"
    }
   ],
   "source": [
    "[DecodePred(vgg19.decode_predictions(Pred2, top), Y) for top in range(1,20)]"
   ]
  },
  {
   "cell_type": "markdown",
   "metadata": {},
   "source": [
    "### DenseNet121"
   ]
  },
  {
   "cell_type": "code",
   "execution_count": 86,
   "metadata": {},
   "outputs": [
    {
     "name": "stdout",
     "output_type": "stream",
     "text": [
      "Downloading data from https://github.com/keras-team/keras-applications/releases/download/densenet/densenet121_weights_tf_dim_ordering_tf_kernels.h5\n",
      "33193984/33188688 [==============================] - 105s 3us/step\n"
     ]
    }
   ],
   "source": [
    "model3 = densenet.DenseNet121(weights='imagenet', include_top=True)"
   ]
  },
  {
   "cell_type": "code",
   "execution_count": 87,
   "metadata": {},
   "outputs": [],
   "source": [
    "model3.compile(optimizer='SGD',\n",
    "               loss='sparse_categorical_crossentropy',\n",
    "               metrics=['accuracy'])"
   ]
  },
  {
   "cell_type": "code",
   "execution_count": 101,
   "metadata": {},
   "outputs": [
    {
     "name": "stdout",
     "output_type": "stream",
     "text": [
      "8580/8580 [==============================] - 125s 15ms/step\n"
     ]
    }
   ],
   "source": [
    "Pred3 = model3.predict_generator(\n",
    "    TestDataGen(densenet.preprocess_input),\n",
    "    steps=ntest,\n",
    "    verbose=1, \n",
    "    use_multiprocessing=True)\n",
    "\n",
    "Y = [gen_labl(idx) for idx in range(ntest)]   \n"
   ]
  },
  {
   "cell_type": "code",
   "execution_count": 109,
   "metadata": {},
   "outputs": [
    {
     "data": {
      "text/plain": [
       "[0.7997668997668997,\n",
       " 0.8846153846153846,\n",
       " 0.9118881118881119,\n",
       " 0.9233100233100233,\n",
       " 0.9304195804195804,\n",
       " 0.9346153846153846,\n",
       " 0.9382284382284383,\n",
       " 0.9402097902097902,\n",
       " 0.9416083916083916,\n",
       " 0.9421911421911422,\n",
       " 0.9427738927738928,\n",
       " 0.9434731934731935,\n",
       " 0.9435897435897436,\n",
       " 0.9438228438228439,\n",
       " 0.9444055944055944,\n",
       " 0.9449883449883449,\n",
       " 0.9455710955710955,\n",
       " 0.9455710955710955,\n",
       " 0.9456876456876457]"
      ]
     },
     "execution_count": 109,
     "metadata": {},
     "output_type": "execute_result"
    }
   ],
   "source": [
    "[DecodePred(densenet.decode_predictions(Pred3, top), Y) for top in range(1,20)]"
   ]
  }
 ],
 "metadata": {
  "kernelspec": {
   "display_name": "Python 3",
   "language": "python",
   "name": "python3"
  },
  "language_info": {
   "codemirror_mode": {
    "name": "ipython",
    "version": 3
   },
   "file_extension": ".py",
   "mimetype": "text/x-python",
   "name": "python",
   "nbconvert_exporter": "python",
   "pygments_lexer": "ipython3",
   "version": "3.5.2"
  }
 },
 "nbformat": 4,
 "nbformat_minor": 2
}
