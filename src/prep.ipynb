{
 "cells": [
  {
   "cell_type": "code",
   "execution_count": 1,
   "metadata": {},
   "outputs": [],
   "source": [
    "import os.path\n",
    "\n",
    "import numpy as np\n",
    "import scipy.io as sio\n",
    "import xml.etree.ElementTree as et\n",
    "\n",
    "import skimage\n",
    "import matplotlib as plt\n",
    "from skimage import io\n",
    "\n",
    "path_prefix = '../../Stanford_Dog_Breed'\n",
    "anno_prefix = 'Annotation'\n",
    "imgs_prefix = 'Images'"
   ]
  },
  {
   "cell_type": "code",
   "execution_count": 2,
   "metadata": {},
   "outputs": [],
   "source": [
    "def imcrop(img, bbox):\n",
    "    return img[bbox[1]:bbox[1]+bbox[3], bbox[0]:bbox[0]+bbox[2]]"
   ]
  },
  {
   "cell_type": "code",
   "execution_count": 3,
   "metadata": {},
   "outputs": [],
   "source": [
    "mat = sio.loadmat(os.path.join(path_prefix, 'file_list.mat'))"
   ]
  },
  {
   "cell_type": "code",
   "execution_count": 4,
   "metadata": {},
   "outputs": [],
   "source": [
    "file_list = mat['file_list']\n",
    "annotation_list = mat['annotation_list']\n",
    "labels = mat['labels']"
   ]
  },
  {
   "cell_type": "code",
   "execution_count": 5,
   "metadata": {},
   "outputs": [
    {
     "name": "stdout",
     "output_type": "stream",
     "text": [
      "n02085620-Chihuahua/n02085620_10074.jpg\n",
      "n02085620-Chihuahua/n02085620_10074\n",
      "n02085620-Chihuahua/n02085620_10131.jpg\n",
      "n02085620-Chihuahua/n02085620_10131\n",
      "n02085620-Chihuahua/n02085620_10621.jpg\n",
      "n02085620-Chihuahua/n02085620_10621\n",
      "n02085620-Chihuahua/n02085620_1073.jpg\n",
      "n02085620-Chihuahua/n02085620_1073\n",
      "n02085620-Chihuahua/n02085620_10976.jpg\n",
      "n02085620-Chihuahua/n02085620_10976\n",
      "n02085620-Chihuahua/n02085620_11140.jpg\n",
      "n02085620-Chihuahua/n02085620_11140\n",
      "n02085620-Chihuahua/n02085620_11238.jpg\n",
      "n02085620-Chihuahua/n02085620_11238\n",
      "n02085620-Chihuahua/n02085620_11258.jpg\n",
      "n02085620-Chihuahua/n02085620_11258\n",
      "n02085620-Chihuahua/n02085620_11337.jpg\n",
      "n02085620-Chihuahua/n02085620_11337\n",
      "n02085620-Chihuahua/n02085620_11477.jpg\n",
      "n02085620-Chihuahua/n02085620_11477\n",
      "n02085620-Chihuahua/n02085620_1152.jpg\n",
      "n02085620-Chihuahua/n02085620_1152\n",
      "n02085620-Chihuahua/n02085620_11696.jpg\n",
      "n02085620-Chihuahua/n02085620_11696\n",
      "n02085620-Chihuahua/n02085620_11818.jpg\n",
      "n02085620-Chihuahua/n02085620_11818\n",
      "n02085620-Chihuahua/n02085620_11948.jpg\n",
      "n02085620-Chihuahua/n02085620_11948\n",
      "n02085620-Chihuahua/n02085620_1205.jpg\n",
      "n02085620-Chihuahua/n02085620_1205\n",
      "n02085620-Chihuahua/n02085620_12101.jpg\n",
      "n02085620-Chihuahua/n02085620_12101\n",
      "n02085620-Chihuahua/n02085620_12334.jpg\n",
      "n02085620-Chihuahua/n02085620_12334\n",
      "n02085620-Chihuahua/n02085620_1235.jpg\n",
      "n02085620-Chihuahua/n02085620_1235\n",
      "n02085620-Chihuahua/n02085620_1271.jpg\n",
      "n02085620-Chihuahua/n02085620_1271\n",
      "n02085620-Chihuahua/n02085620_12718.jpg\n",
      "n02085620-Chihuahua/n02085620_12718\n"
     ]
    }
   ],
   "source": [
    "for i in range(20):\n",
    "    print(file_list[i][0][0])\n",
    "    print(annotation_list[i][0][0])"
   ]
  },
  {
   "cell_type": "code",
   "execution_count": 6,
   "metadata": {},
   "outputs": [
    {
     "data": {
      "text/plain": [
       "'n02085620-Chihuahua/n02085620_10074'"
      ]
     },
     "execution_count": 6,
     "metadata": {},
     "output_type": "execute_result"
    }
   ],
   "source": [
    "str(annotation_list[0][0][0])"
   ]
  },
  {
   "cell_type": "code",
   "execution_count": 7,
   "metadata": {},
   "outputs": [
    {
     "name": "stdout",
     "output_type": "stream",
     "text": [
      "[25, 10, 276, 498]\n"
     ]
    }
   ],
   "source": [
    "xml = et.parse(os.path.join(path_prefix, anno_prefix, str(annotation_list[0][0][0])))\n",
    "items = xml.findall('object')\n",
    "for items_it in items:\n",
    "    bndbox = items_it.find('bndbox')\n",
    "    bbox = [int(it.text) for it in bndbox]\n",
    "       \n",
    "print(bbox)"
   ]
  },
  {
   "cell_type": "code",
   "execution_count": 8,
   "metadata": {},
   "outputs": [
    {
     "data": {
      "text/plain": [
       "4"
      ]
     },
     "execution_count": 8,
     "metadata": {},
     "output_type": "execute_result"
    }
   ],
   "source": [
    "len(bbox)"
   ]
  },
  {
   "cell_type": "code",
   "execution_count": 9,
   "metadata": {},
   "outputs": [],
   "source": [
    "img = io.imread(os.path.join(path_prefix, imgs_prefix, str(file_list[0][0][0]) ))"
   ]
  },
  {
   "cell_type": "code",
   "execution_count": 10,
   "metadata": {},
   "outputs": [
    {
     "data": {
      "text/plain": [
       "<matplotlib.image.AxesImage at 0x7f99ac85d588>"
      ]
     },
     "execution_count": 10,
     "metadata": {},
     "output_type": "execute_result"
    }
   ],
   "source": [
    "io.imshow(img)\n",
    "io.imshow(imcrop(img, bbox))"
   ]
  },
  {
   "cell_type": "code",
   "execution_count": 14,
   "metadata": {},
   "outputs": [],
   "source": [
    "import tensorflow"
   ]
  },
  {
   "cell_type": "code",
   "execution_count": 18,
   "metadata": {},
   "outputs": [],
   "source": [
    "from tensorflow.python.keras.applications import ResNet50"
   ]
  },
  {
   "cell_type": "code",
   "execution_count": 19,
   "metadata": {},
   "outputs": [],
   "source": [
    "from tensorflow.python.keras.applications.resnet50 import preprocess_input\n",
    "from tensorflow.python.keras.preprocessing.image import load_img, img_to_array"
   ]
  },
  {
   "cell_type": "code",
   "execution_count": 20,
   "metadata": {},
   "outputs": [
    {
     "data": {
      "text/plain": [
       "'1.4.0-rc1'"
      ]
     },
     "execution_count": 20,
     "metadata": {},
     "output_type": "execute_result"
    }
   ],
   "source": [
    "tensorflow.__version__"
   ]
  },
  {
   "cell_type": "code",
   "execution_count": 17,
   "metadata": {},
   "outputs": [
    {
     "ename": "AttributeError",
     "evalue": "'function' object has no attribute 'ResNet50'",
     "output_type": "error",
     "traceback": [
      "\u001b[0;31m\u001b[0m",
      "\u001b[0;31mAttributeError\u001b[0mTraceback (most recent call last)",
      "\u001b[0;32m<ipython-input-17-bc5b9f6e6fdc>\u001b[0m in \u001b[0;36m<module>\u001b[0;34m()\u001b[0m\n\u001b[0;32m----> 1\u001b[0;31m \u001b[0mmodel\u001b[0m \u001b[0;34m=\u001b[0m \u001b[0mResNet50\u001b[0m\u001b[0;34m.\u001b[0m\u001b[0mResNet50\u001b[0m\u001b[0;34m(\u001b[0m\u001b[0;34m)\u001b[0m\u001b[0;34m\u001b[0m\u001b[0m\n\u001b[0m",
      "\u001b[0;31mAttributeError\u001b[0m: 'function' object has no attribute 'ResNet50'"
     ]
    }
   ],
   "source": [
    "model = ResNet50.ResNet50()"
   ]
  },
  {
   "cell_type": "code",
   "execution_count": null,
   "metadata": {},
   "outputs": [],
   "source": []
  }
 ],
 "metadata": {
  "kernelspec": {
   "display_name": "Python 3",
   "language": "python",
   "name": "python3"
  },
  "language_info": {
   "codemirror_mode": {
    "name": "ipython",
    "version": 3
   },
   "file_extension": ".py",
   "mimetype": "text/x-python",
   "name": "python",
   "nbconvert_exporter": "python",
   "pygments_lexer": "ipython3",
   "version": "3.6.4"
  }
 },
 "nbformat": 4,
 "nbformat_minor": 2
}
