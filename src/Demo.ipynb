{
 "cells": [
  {
   "cell_type": "code",
   "execution_count": 1,
   "metadata": {},
   "outputs": [
    {
     "name": "stdout",
     "output_type": "stream",
     "text": [
      "1.12.0\n",
      "2.1.6-tf\n"
     ]
    }
   ],
   "source": [
    "import numpy as np\n",
    "import pandas as pd\n",
    "import tensorflow as tf\n",
    "import matplotlib.pyplot as plt\n",
    "\n",
    "from tensorflow import keras\n",
    "from sklearn.model_selection import train_test_split\n",
    "\n",
    "print(tf.__version__)\n",
    "print(keras.__version__)"
   ]
  },
  {
   "cell_type": "code",
   "execution_count": 2,
   "metadata": {},
   "outputs": [
    {
     "data": {
      "text/plain": [
       "True"
      ]
     },
     "execution_count": 2,
     "metadata": {},
     "output_type": "execute_result"
    }
   ],
   "source": [
    "tf.test.is_gpu_available()"
   ]
  },
  {
   "cell_type": "code",
   "execution_count": 3,
   "metadata": {},
   "outputs": [
    {
     "name": "stdout",
     "output_type": "stream",
     "text": [
      "Found GPU at: /device:GPU:0\n"
     ]
    }
   ],
   "source": [
    "device_name = tf.test.gpu_device_name()\n",
    "if device_name != '/device:GPU:0':\n",
    "  raise SystemError('GPU device not found')\n",
    "print('Found GPU at: {}'.format(device_name))"
   ]
  },
  {
   "cell_type": "code",
   "execution_count": 4,
   "metadata": {},
   "outputs": [],
   "source": [
    "import tensorflow.keras.applications.resnet50 as resnet50 \n",
    "import tensorflow.keras.applications.vgg19 as vgg19\n",
    "import tensorflow.keras.applications.densenet as densenet\n",
    "import tensorflow.keras.applications.inception_v3 as inception_v3"
   ]
  },
  {
   "cell_type": "code",
   "execution_count": 5,
   "metadata": {},
   "outputs": [],
   "source": [
    "import tensorflow.keras.preprocessing.image as image\n",
    "import tensorflow.keras.losses as losses\n",
    "import tensorflow.keras.layers as layers\n",
    "import tensorflow.keras.models as models\n",
    "import tensorflow.keras.callbacks as callbacks\n",
    "import tensorflow.keras.backend as K"
   ]
  },
  {
   "cell_type": "code",
   "execution_count": 6,
   "metadata": {},
   "outputs": [],
   "source": [
    "from tensorflow.keras import optimizers\n",
    "from tensorflow.keras.optimizers import SGD"
   ]
  },
  {
   "cell_type": "code",
   "execution_count": 7,
   "metadata": {},
   "outputs": [],
   "source": [
    "from scipy.io import loadmat\n",
    "from os.path import join\n",
    "\n",
    "prefix = './Stanford_Dog_Breed'\n",
    "imgfix = 'Images'\n",
    "anofix = 'Annotation'"
   ]
  },
  {
   "cell_type": "code",
   "execution_count": 8,
   "metadata": {},
   "outputs": [
    {
     "name": "stdout",
     "output_type": "stream",
     "text": [
      "Found 12000 images belonging to 120 classes.\n",
      "Found 8580 images belonging to 120 classes.\n"
     ]
    }
   ],
   "source": [
    "ImgTrainGen = image.ImageDataGenerator(preprocessing_function=vgg19.preprocess_input, \n",
    "                                  width_shift_range=0.2, \n",
    "                                  height_shift_range=0.2, \n",
    "                                  shear_range=0.2, \n",
    "                                  zoom_range=0.2,\n",
    "                                  rotation_range=0.2,\n",
    "                                  fill_mode='nearest',\n",
    "                                  horizontal_flip=True, \n",
    "#                                   validation_split=1/6.\n",
    "                                      )\n",
    "\n",
    "Train = ImgTrainGen.flow_from_directory(join(prefix, imgfix, 'Train'), \n",
    "                                   target_size=(224, 224), \n",
    "                                   class_mode='sparse', \n",
    "                                   batch_size=32, \n",
    "                                   shuffle=True, \n",
    "                                   seed=None, \n",
    "                                   subset='training', \n",
    "                                   interpolation='nearest')\n",
    "\n",
    "ImgTestGen = image.ImageDataGenerator(preprocessing_function=vgg19.preprocess_input, validation_split=1/6.)\n",
    "\n",
    "Test  = ImgTestGen.flow_from_directory(join(prefix, imgfix, 'Test' ), \n",
    "                                       target_size=(224, 224), \n",
    "                                       class_mode='sparse', \n",
    "                                       batch_size=32, \n",
    "                                       shuffle=False, \n",
    "                                       interpolation='nearest')"
   ]
  },
  {
   "cell_type": "code",
   "execution_count": 9,
   "metadata": {},
   "outputs": [],
   "source": [
    "def MultiTaskDataGen(ImgGen):\n",
    "    while True:\n",
    "        X = ImgGen.next()\n",
    "        yield [X[0], X[1]], [X[1], X[1], X[1]]\n",
    "        \n",
    "TrainData = MultiTaskDataGen(Train)\n",
    "# ValidData = MultiTaskDataGen(Valid)\n",
    "TestData  = MultiTaskDataGen(Test)"
   ]
  },
  {
   "cell_type": "markdown",
   "metadata": {},
   "source": [
    "# VGG Evaluation"
   ]
  },
  {
   "cell_type": "code",
   "execution_count": 10,
   "metadata": {},
   "outputs": [],
   "source": [
    "model_vgg = models.load_model('vgg19_dfc120_40_6751')"
   ]
  },
  {
   "cell_type": "code",
   "execution_count": 11,
   "metadata": {},
   "outputs": [],
   "source": [
    "res_vgg = model_vgg.evaluate_generator(Test, verbose=0, steps=None, workers=4, use_multiprocessing=True, max_queue_size=12)"
   ]
  },
  {
   "cell_type": "code",
   "execution_count": 19,
   "metadata": {},
   "outputs": [
    {
     "name": "stdout",
     "output_type": "stream",
     "text": [
      "('Losses of the fine tuned VGG model', 1.949572550574869)\n",
      "('Accuracy of the fine tuned VGG model', 0.6751748251748252)\n"
     ]
    }
   ],
   "source": [
    "print('Losses of the fine tuned VGG model',res_vgg[0])\n",
    "print('Accuracy of the fine tuned VGG model',res_vgg[1])"
   ]
  },
  {
   "cell_type": "markdown",
   "metadata": {},
   "source": [
    "# InceptionV3 Evaluation"
   ]
  },
  {
   "cell_type": "code",
   "execution_count": 13,
   "metadata": {},
   "outputs": [],
   "source": [
    "model_inceptionV3 = models.load_model('vgg19_dfc120_40_6751')"
   ]
  },
  {
   "cell_type": "code",
   "execution_count": 14,
   "metadata": {},
   "outputs": [],
   "source": [
    "res_inceptionV3 = model_inceptionV3.evaluate_generator(Test, verbose=0, steps=None, workers=4, use_multiprocessing=True, max_queue_size=12)"
   ]
  },
  {
   "cell_type": "code",
   "execution_count": 15,
   "metadata": {},
   "outputs": [
    {
     "name": "stdout",
     "output_type": "stream",
     "text": [
      "('Losses of the fine tuned InceptionV3 model', 1.949572550574869)\n",
      "('Accuracy of the fine tuned InceptionV3 model', 0.6751748251748252)\n"
     ]
    }
   ],
   "source": [
    "print('Losses of the fine tuned InceptionV3 model',res_inceptionV3[0])\n",
    "print('Accuracy of the fine tuned InceptionV3 model',res_inceptionV3[1])"
   ]
  },
  {
   "cell_type": "markdown",
   "metadata": {},
   "source": [
    "# DenseNet121 Evaluation"
   ]
  },
  {
   "cell_type": "code",
   "execution_count": 16,
   "metadata": {},
   "outputs": [],
   "source": [
    "model_densenet121 = models.load_model('densenet121_dfc120_120_8059')"
   ]
  },
  {
   "cell_type": "code",
   "execution_count": 17,
   "metadata": {},
   "outputs": [],
   "source": [
    "res_densenet121 = model_densenet121.evaluate_generator(Test, verbose=0, steps=None, workers=4, use_multiprocessing=True, max_queue_size=12)"
   ]
  },
  {
   "cell_type": "code",
   "execution_count": 18,
   "metadata": {},
   "outputs": [
    {
     "name": "stdout",
     "output_type": "stream",
     "text": [
      "('Losses of the fine tuned Densenet121 model', 13.217681261431643)\n",
      "('Accuracy of the fine tuned Densenet121 model', 0.009557109557109558)\n"
     ]
    }
   ],
   "source": [
    "print('Losses of the fine tuned Densenet121 model',res_densenet121[0])\n",
    "print('Accuracy of the fine tuned Densenet121 model',res_densenet121[1])"
   ]
  }
 ],
 "metadata": {
  "kernelspec": {
   "display_name": "Python 2",
   "language": "python",
   "name": "python2"
  },
  "language_info": {
   "codemirror_mode": {
    "name": "ipython",
    "version": 2
   },
   "file_extension": ".py",
   "mimetype": "text/x-python",
   "name": "python",
   "nbconvert_exporter": "python",
   "pygments_lexer": "ipython2",
   "version": "2.7.12"
  }
 },
 "nbformat": 4,
 "nbformat_minor": 2
}
